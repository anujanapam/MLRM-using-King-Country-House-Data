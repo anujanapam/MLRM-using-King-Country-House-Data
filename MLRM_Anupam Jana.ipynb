{
 "cells": [
  {
   "cell_type": "markdown",
   "metadata": {},
   "source": [
    "# MLRM"
   ]
  },
  {
   "cell_type": "code",
   "execution_count": 1,
   "metadata": {},
   "outputs": [],
   "source": [
    "# Setting New Working Directory.\n",
    "\n",
    "# First Import Python's os Module.\n",
    "import os\n",
    "\n",
    "# Print Current Working Directory.\n",
    "print(\"Current Working Directory is:\",os.getcwd())\n",
    "\n",
    "# Change the Current Working Directory using os.chdir(path)\n",
    "os.chdir(\"F:\\EDP on BUSINESS ANALYTICS\\CAPSTONE PROJECT\")\n",
    "print(\"New Working Directory is:\",os.getcwd())"
   ]
  },
  {
   "cell_type": "code",
   "execution_count": 2,
   "metadata": {},
   "outputs": [],
   "source": [
    "# Suppress Warnings\n",
    "import warnings\n",
    "warnings.filterwarnings('ignore')"
   ]
  },
  {
   "cell_type": "code",
   "execution_count": 3,
   "metadata": {},
   "outputs": [],
   "source": [
    "## Import Required Packages\n",
    "%matplotlib inline\n",
    "from pathlib import Path\n",
    "\n",
    "import pandas as pd\n",
    "from sklearn.model_selection import train_test_split\n",
    "from sklearn.linear_model import LinearRegression, Lasso, Ridge, LassoCV, BayesianRidge\n",
    "import statsmodels.formula.api as sm\n",
    "import matplotlib.pylab as plt\n",
    "\n",
    "from dmba import regressionSummary, exhaustive_search\n",
    "from dmba import backward_elimination, forward_selection, stepwise_selection\n",
    "from dmba import adjusted_r2_score, AIC_score, BIC_score"
   ]
  },
  {
   "cell_type": "markdown",
   "metadata": {},
   "source": [
    "# REGRESSION MODELLING USING TESTING DATA"
   ]
  },
  {
   "cell_type": "code",
   "execution_count": 4,
   "metadata": {},
   "outputs": [
    {
     "name": "stdout",
     "output_type": "stream",
     "text": [
      "intercept  -814689.2580388592\n",
      "      Predictor    coefficient\n",
      "0      bedrooms  -36350.665606\n",
      "1     bathrooms    -558.322408\n",
      "2   sqft_living     105.292944\n",
      "3      sqft_lot      -0.052909\n",
      "4        floors    7787.064450\n",
      "5    waterfront  341284.347719\n",
      "6          view  121463.361918\n",
      "7     condition  -31044.232601\n",
      "8         grade  154998.152898\n",
      "9           age    2531.364777\n",
      "10    renovated   23341.937801\n",
      "\n",
      "Regression statistics\n",
      "\n",
      "                      Mean Error (ME) : 0.0000\n",
      "       Root Mean Squared Error (RMSE) : 171851.2540\n",
      "            Mean Absolute Error (MAE) : 127425.4558\n",
      "          Mean Percentage Error (MPE) : -8.8076\n",
      "Mean Absolute Percentage Error (MAPE) : 26.9430\n"
     ]
    }
   ],
   "source": [
    "# Reduce data frame to the top 1000 rows and select columns for regression analysis\n",
    "house_df = pd.read_csv('kc_house_data.csv')\n",
    "house_df = house_df.iloc[0:100]\n",
    "\n",
    "predictors = ['bedrooms', 'bathrooms', 'sqft_living', 'sqft_lot', 'floors','waterfront', 'view', \n",
    "              'condition', 'grade', 'age', 'renovated']\n",
    "outcome = 'price'\n",
    "\n",
    "# partition data\n",
    "X = pd.get_dummies(house_df[predictors], drop_first=True)\n",
    "y = house_df[outcome]\n",
    "train_X, valid_X, train_y, valid_y = train_test_split(X, y, test_size=0.4, random_state=1)\n",
    "\n",
    "house_lm = LinearRegression()\n",
    "house_lm.fit(train_X, train_y)\n",
    "\n",
    "# print coefficients\n",
    "print('intercept ', house_lm.intercept_)\n",
    "print(pd.DataFrame({'Predictor': X.columns, 'coefficient': house_lm.coef_}))\n",
    "\n",
    "# print performance measures\n",
    "regressionSummary(train_y, house_lm.predict(train_X))\n"
   ]
  },
  {
   "cell_type": "code",
   "execution_count": 5,
   "metadata": {},
   "outputs": [
    {
     "name": "stdout",
     "output_type": "stream",
     "text": [
      "adjusted r2 :  0.6746799489047288\n",
      "AIC :  1642.7987735076026\n",
      "BIC :  1670.02525281649\n"
     ]
    }
   ],
   "source": [
    "pred_y = house_lm.predict(train_X)\n",
    "\n",
    "print('adjusted r2 : ', adjusted_r2_score(train_y, pred_y, house_lm))\n",
    "print('AIC : ', AIC_score(train_y, pred_y, house_lm))\n",
    "print('BIC : ', BIC_score(train_y, pred_y, house_lm))"
   ]
  },
  {
   "cell_type": "markdown",
   "metadata": {},
   "source": [
    "# Regression Modelling on Validation Data"
   ]
  },
  {
   "cell_type": "code",
   "execution_count": 6,
   "metadata": {},
   "outputs": [
    {
     "name": "stdout",
     "output_type": "stream",
     "text": [
      "        Predicted     Actual       Residual\n",
      "80  514834.550491   390000.0 -124834.550491\n",
      "84  180549.912500   315000.0  134450.087500\n",
      "33  535497.263422   535000.0    -497.263422\n",
      "81  303907.174267   360000.0   56092.825733\n",
      "93  588542.878393   430000.0 -158542.878393\n",
      "17  430686.806078   485000.0   54313.193922\n",
      "36  171597.763455   550000.0  378402.236545\n",
      "82  493630.160334   355000.0 -138630.160334\n",
      "69  619379.888722  1330000.0  710620.111278\n",
      "65  535452.614668   317625.0 -217827.614668\n",
      "92  335300.176215   153000.0 -182300.176215\n",
      "39  524502.746275   605000.0   80497.253725\n",
      "56  300331.623937   292500.0   -7831.623937\n",
      "52  356664.775989   600000.0  243335.224011\n",
      "51  580983.337309   345000.0 -235983.337309\n",
      "32  474187.134536   687500.0  213312.865464\n",
      "31  277532.813421   280000.0    2467.186579\n",
      "44  165319.976125   309000.0  143680.023875\n",
      "78  341843.477874   410000.0   68156.522126\n",
      "10  730395.346804   662500.0  -67895.346804\n",
      "\n",
      "Regression statistics\n",
      "\n",
      "                      Mean Error (ME) : 17567.2572\n",
      "       Root Mean Squared Error (RMSE) : 194514.3129\n",
      "            Mean Absolute Error (MAE) : 133801.4412\n",
      "          Mean Percentage Error (MPE) : -6.5631\n",
      "Mean Absolute Percentage Error (MAPE) : 30.9055\n"
     ]
    }
   ],
   "source": [
    "# Use predict() to make predictions on a new set\n",
    "house_lm_pred = house_lm.predict(valid_X)\n",
    "\n",
    "result = pd.DataFrame({'Predicted': house_lm_pred, 'Actual': valid_y,\n",
    "                       'Residual': valid_y - house_lm_pred})\n",
    "print(result.head(20))\n",
    "\n",
    "# Compute common accuracy measures\n",
    "regressionSummary(valid_y, house_lm_pred)"
   ]
  },
  {
   "cell_type": "markdown",
   "metadata": {},
   "source": [
    "# Exhaustive Search Model"
   ]
  },
  {
   "cell_type": "code",
   "execution_count": 7,
   "metadata": {},
   "outputs": [
    {
     "name": "stdout",
     "output_type": "stream",
     "text": [
      "     n     r2adj          AIC    age  bathrooms  bedrooms  condition  floors  grade  renovated  \\\n",
      "0    1  0.511919  1658.493557  False      False     False      False   False   True      False   \n",
      "1    2  0.655043  1638.626420  False      False     False      False   False   True      False   \n",
      "2    3  0.682112  1634.661128   True      False     False      False   False   True      False   \n",
      "3    4  0.691342  1633.812255   True      False     False      False   False   True      False   \n",
      "4    5  0.700169  1632.970260   True      False     False      False   False   True      False   \n",
      "5    6  0.700956  1633.691164   True      False      True      False   False   True      False   \n",
      "6    7  0.699426  1634.854372   True      False      True       True   False   True      False   \n",
      "7    8  0.693734  1636.814869   True      False      True       True    True   True      False   \n",
      "8    9  0.687689  1638.799493   True      False      True       True    True   True       True   \n",
      "9   10  0.681319  1640.798852   True      False      True       True    True   True       True   \n",
      "10  11  0.674680  1642.798774   True       True      True       True    True   True       True   \n",
      "\n",
      "    sqft_living  sqft_lot   view  waterfront  \n",
      "0         False     False  False       False  \n",
      "1         False     False   True       False  \n",
      "2         False     False   True       False  \n",
      "3          True     False   True       False  \n",
      "4          True     False   True        True  \n",
      "5          True     False   True        True  \n",
      "6          True     False   True        True  \n",
      "7          True     False   True        True  \n",
      "8          True     False   True        True  \n",
      "9          True      True   True        True  \n",
      "10         True      True   True        True  \n"
     ]
    }
   ],
   "source": [
    "def train_model(variables):\n",
    "    model = LinearRegression()\n",
    "    model.fit(train_X[variables], train_y)\n",
    "    return model\n",
    "\n",
    "def score_model(model, variables):\n",
    "    pred_y = model.predict(train_X[variables])\n",
    "    # we negate as score is optimized to be as low as possible\n",
    "    return -adjusted_r2_score(train_y, pred_y, model)\n",
    "\n",
    "allVariables = train_X.columns\n",
    "results = exhaustive_search(allVariables, train_model, score_model)\n",
    "\n",
    "data = []\n",
    "for result in results:\n",
    "    model = result['model']\n",
    "    variables = result['variables']\n",
    "    AIC = AIC_score(train_y, model.predict(train_X[variables]), model)\n",
    "    \n",
    "    d = {'n': result['n'], 'r2adj': -result['score'], 'AIC': AIC}\n",
    "    d.update({var: var in result['variables'] for var in allVariables})\n",
    "    data.append(d)\n",
    "pd.set_option('display.width', 100)\n",
    "print(pd.DataFrame(data, columns=('n', 'r2adj', 'AIC') + tuple(sorted(allVariables))))\n",
    "pd.reset_option('display.width')"
   ]
  },
  {
   "cell_type": "markdown",
   "metadata": {},
   "source": [
    "# Backward Elimination Model"
   ]
  },
  {
   "cell_type": "code",
   "execution_count": 8,
   "metadata": {},
   "outputs": [
    {
     "name": "stdout",
     "output_type": "stream",
     "text": [
      "Variables: bedrooms, bathrooms, sqft_living, sqft_lot, floors, waterfront, view, condition, grade, age, renovated\n",
      "Start: score=1642.80\n",
      "Step: score=1640.80, remove bathrooms\n",
      "Step: score=1638.80, remove sqft_lot\n",
      "Step: score=1636.81, remove renovated\n",
      "Step: score=1634.85, remove floors\n",
      "Step: score=1633.69, remove condition\n",
      "Step: score=1632.97, remove bedrooms\n",
      "Step: score=1632.97, remove None\n",
      "['sqft_living', 'waterfront', 'view', 'grade', 'age']\n"
     ]
    }
   ],
   "source": [
    "def train_model(variables):\n",
    "    model = LinearRegression()\n",
    "    model.fit(train_X[variables], train_y)\n",
    "    return model\n",
    "\n",
    "def score_model(model, variables):\n",
    "    return AIC_score(train_y, model.predict(train_X[variables]), model)\n",
    "\n",
    "best_model, best_variables = backward_elimination(train_X.columns, train_model, score_model, verbose=True)\n",
    "\n",
    "print(best_variables)"
   ]
  },
  {
   "cell_type": "code",
   "execution_count": 9,
   "metadata": {},
   "outputs": [
    {
     "name": "stdout",
     "output_type": "stream",
     "text": [
      "\n",
      "Regression statistics\n",
      "\n",
      "                      Mean Error (ME) : 20020.2085\n",
      "       Root Mean Squared Error (RMSE) : 195727.2469\n",
      "            Mean Absolute Error (MAE) : 133386.7047\n",
      "          Mean Percentage Error (MPE) : -6.0251\n",
      "Mean Absolute Percentage Error (MAPE) : 30.8875\n"
     ]
    }
   ],
   "source": [
    "regressionSummary(valid_y, best_model.predict(valid_X[best_variables]))"
   ]
  },
  {
   "cell_type": "markdown",
   "metadata": {},
   "source": [
    "# Forward Selection Model"
   ]
  },
  {
   "cell_type": "code",
   "execution_count": 10,
   "metadata": {},
   "outputs": [
    {
     "name": "stdout",
     "output_type": "stream",
     "text": [
      "Variables: bedrooms, bathrooms, sqft_living, sqft_lot, floors, waterfront, view, condition, grade, age, renovated\n",
      "Start: score=1700.56, constant\n",
      "Step: score=1658.49, add grade\n",
      "Step: score=1638.63, add view\n",
      "Step: score=1634.66, add age\n",
      "Step: score=1633.81, add sqft_living\n",
      "Step: score=1632.97, add waterfront\n",
      "Step: score=1632.97, add None\n",
      "['grade', 'view', 'age', 'sqft_living', 'waterfront']\n"
     ]
    }
   ],
   "source": [
    "# The initial model is the constant model - this requires special handling\n",
    "# in train_model and score_model\n",
    "def train_model(variables):\n",
    "    if len(variables) == 0:\n",
    "        return None\n",
    "    model = LinearRegression()\n",
    "    model.fit(train_X[variables], train_y)\n",
    "    return model\n",
    "\n",
    "def score_model(model, variables):\n",
    "    if len(variables) == 0:\n",
    "        return AIC_score(train_y, [train_y.mean()] * len(train_y), model, df=1)\n",
    "    return AIC_score(train_y, model.predict(train_X[variables]), model)\n",
    "\n",
    "best_model, best_variables = forward_selection(train_X.columns, train_model, score_model, verbose=True)\n",
    "\n",
    "print(best_variables)"
   ]
  },
  {
   "cell_type": "markdown",
   "metadata": {},
   "source": [
    "# Stepwise Selection Model"
   ]
  },
  {
   "cell_type": "code",
   "execution_count": 11,
   "metadata": {},
   "outputs": [
    {
     "name": "stdout",
     "output_type": "stream",
     "text": [
      "Variables: bedrooms, bathrooms, sqft_living, sqft_lot, floors, waterfront, view, condition, grade, age, renovated\n",
      "Start: score=1700.56, constant\n",
      "Step: score=1658.49, add grade\n",
      "Step: score=1638.63, add view\n",
      "Step: score=1634.66, add age\n",
      "Step: score=1633.81, add sqft_living\n",
      "Step: score=1632.97, add waterfront\n",
      "Step: score=1632.97, unchanged None\n",
      "['grade', 'view', 'age', 'sqft_living', 'waterfront']\n"
     ]
    }
   ],
   "source": [
    "best_model, best_variables = stepwise_selection(train_X.columns, train_model, score_model, verbose=True)\n",
    "\n",
    "print(best_variables)"
   ]
  },
  {
   "cell_type": "code",
   "execution_count": 13,
   "metadata": {},
   "outputs": [
    {
     "name": "stdout",
     "output_type": "stream",
     "text": [
      "intercept  -1008749.699889056\n",
      "     Predictor    coefficient\n",
      "0        grade  161126.892851\n",
      "1         view  121151.274110\n",
      "2          age    2198.502151\n",
      "3  sqft_living      78.059468\n",
      "4   waterfront  315100.268110\n",
      "\n",
      "Regression statistics\n",
      "\n",
      "                      Mean Error (ME) : 0.0000\n",
      "       Root Mean Squared Error (RMSE) : 174989.3334\n",
      "            Mean Absolute Error (MAE) : 130751.5255\n",
      "          Mean Percentage Error (MPE) : -9.0646\n",
      "Mean Absolute Percentage Error (MAPE) : 27.4209\n"
     ]
    }
   ],
   "source": [
    "predictors = ['grade', 'view', 'age', 'sqft_living', 'waterfront']\n",
    "outcome = 'price'\n",
    "\n",
    "# partition data\n",
    "X = pd.get_dummies(house_df[predictors], drop_first=True)\n",
    "y = house_df[outcome]\n",
    "train_X, valid_X, train_y, valid_y = train_test_split(X, y, test_size=0.4, random_state=1)\n",
    "\n",
    "house_lm = LinearRegression()\n",
    "house_lm.fit(train_X, train_y)\n",
    "\n",
    "# print coefficients\n",
    "print('intercept ', house_lm.intercept_)\n",
    "print(pd.DataFrame({'Predictor': X.columns, 'coefficient': house_lm.coef_}))\n",
    "\n",
    "# print performance measures\n",
    "regressionSummary(train_y, house_lm.predict(train_X))\n"
   ]
  },
  {
   "cell_type": "code",
   "execution_count": 14,
   "metadata": {},
   "outputs": [
    {
     "name": "stdout",
     "output_type": "stream",
     "text": [
      "adjusted r2 :  0.7001693323896968\n",
      "AIC :  1632.970259865393\n",
      "BIC :  1647.6306718009478\n"
     ]
    }
   ],
   "source": [
    "pred_y = house_lm.predict(train_X)\n",
    "\n",
    "print('adjusted r2 : ', adjusted_r2_score(train_y, pred_y, house_lm))\n",
    "print('AIC : ', AIC_score(train_y, pred_y, house_lm))\n",
    "print('BIC : ', BIC_score(train_y, pred_y, house_lm))"
   ]
  }
 ],
 "metadata": {
  "kernelspec": {
   "display_name": "Python 3",
   "language": "python",
   "name": "python3"
  },
  "language_info": {
   "codemirror_mode": {
    "name": "ipython",
    "version": 3
   },
   "file_extension": ".py",
   "mimetype": "text/x-python",
   "name": "python",
   "nbconvert_exporter": "python",
   "pygments_lexer": "ipython3",
   "version": "3.8.5"
  }
 },
 "nbformat": 4,
 "nbformat_minor": 4
}
